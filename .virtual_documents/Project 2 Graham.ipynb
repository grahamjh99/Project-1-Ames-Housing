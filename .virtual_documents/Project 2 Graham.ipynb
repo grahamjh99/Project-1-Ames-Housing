import numpy as np
import seaborn as sns
import matplotlib.pyplot as plt
import pandas as pd
from sklearn.model_selection import train_test_split
from sklearn.linear_model import LinearRegression


df = pd.read_csv('./datasets/train.csv')
test = pd.read_csv('./datasets/test.csv')
df.head()


df.set_index('Id', inplace = True)
test.set_index('Id', inplace = True)


df.columns


df.info()


df.isnull().sum()








df[df['Garage Area'].isnull()]


df[(df['Garage Area'].isnull()) & (df['Garage Cars'].isnull())][['Garage Area', 'Garage Cars', 'Garage Qual']]


df[df['Garage Area'] == 0]


df[['Garage Area', 'Garage Cars']] = df[['Garage Area', 'Garage Cars']].replace({np.nan: 0})
test[['Garage Area', 'Garage Cars']] = test[['Garage Area', 'Garage Cars']].replace({np.nan: 0})
df[(df['Garage Area']== 0) & (df['Garage Cars'] == 0)][['Garage Area', 'Garage Cars', 'Garage Qual']]








df[(df['Mas Vnr Type'].isnull()) & (df['Mas Vnr Area'].isnull())][['Mas Vnr Area', 'Mas Vnr Type']]


df['Mas Vnr Area'] = df[['Mas Vnr Area']].replace({np.nan: 0})
test['Mas Vnr Area'] = test[['Mas Vnr Area']].replace({np.nan: 0})





df[(df['BsmtFin SF 1'].isnull()) & (df['BsmtFin Type 1'].isnull())][['BsmtFin SF 1', 'BsmtFin Type 1']]


df[['BsmtFin SF 1','BsmtFin SF 2','Bsmt Unf SF','Total Bsmt SF','Bsmt Full Bath','Bsmt Half Bath']] = df[['BsmtFin SF 1','BsmtFin SF 2','Bsmt Unf SF','Total Bsmt SF','Bsmt Full Bath','Bsmt Half Bath']].replace({np.nan: 0})
test[['BsmtFin SF 1','BsmtFin SF 2','Bsmt Unf SF','Total Bsmt SF','Bsmt Full Bath','Bsmt Half Bath']] = test[['BsmtFin SF 1','BsmtFin SF 2','Bsmt Unf SF','Total Bsmt SF','Bsmt Full Bath','Bsmt Half Bath']].replace({np.nan: 0})





df['totalsf'] = df['Pool Area']+df['Wood Deck SF']+ df['Open Porch SF']+df['Lot Area']+df['Enclosed Porch']+df['3Ssn Porch']+ df['Screen Porch']+df['Total Bsmt SF']+df['Gr Liv Area']+df['Garage Area']
test['totalsf'] = test['Pool Area']+test['Wood Deck SF']+ test['Open Porch SF']+test['Lot Area']+test['Enclosed Porch']+test['3Ssn Porch']+ test['Screen Porch']+test['Total Bsmt SF']+test['Gr Liv Area']+test['Garage Area']





# df_numeric = df[['Mo Sold','Yr Sold','SalePrice','Screen Porch','Pool Area','3Ssn Porch',
#                  'Enclosed Porch','Open Porch SF','Wood Deck SF','Id','PID','MS SubClass',
#                  'Lot Area','Overall Qual','Overall Cond','Year Built','Year Remod/Add',
#                 'Mas Vnr Area','1st Flr SF','2nd Flr SF','Low Qual Fin SF','BsmtFin SF 1',
#                 'BsmtFin SF 2','Bsmt Unf SF','Total Bsmt SF','Gr Liv Area','Full Bath','Half Bath',
#                 'Kitchen AbvGr','Bedroom AbvGr','TotRms AbvGrd','Fireplaces','Garage Area','Garage Cars','Garage Yr Blt','Bsmt Half Bath','Bsmt Full Bath']]

# Drop non-numeric columns
df_numeric = df.select_dtypes(include=['int', 'float'])

# Create the heatmap
plt.figure(figsize=(3, 10))
sns.heatmap(df_numeric.corr()[['SalePrice']].sort_values(by='SalePrice',ascending = False), 
            annot=True,
            cmap='viridis');





# Drop the original column and join the dummies
df = pd.get_dummies(df, 
                    columns = ['MS SubClass'],
                    prefix = 'mssubclass',
                    dtype = int)
df.columns


plt.hist(df['Overall Cond'],
        bins = 40,
        edgecolor = 'black');








df['Lot Frontage'] = df[['Lot Frontage']].replace({np.nan: 0})
test['Lot Frontage'] = test[['Lot Frontage']].replace({np.nan: 0})


# Drop non-numeric columns
df_numeric = df.select_dtypes(include=['int', 'float'])

# Create the heatmap
plt.figure(figsize=(3, 15))
sns.heatmap(df_numeric.corr()[['SalePrice']].sort_values(by='SalePrice',ascending = False), 
            annot=True,
            cmap='viridis');








plt.hist(df['SalePrice'],
        bins = 40,
        edgecolor = 'black');


np.mean(df['SalePrice'])


df.info()


test.info()





# fixing MS SubClass to match training data
test = pd.get_dummies(test, 
                    columns = ['MS SubClass'],
                    prefix = 'mssubclass',
                    dtype = int)
test.columns





X = df[['PID', 'Overall Qual', 'Gr Liv Area', 'Year Built', 'Garage Area', 'Total Bsmt SF', 'Year Remod/Add', 'TotRms AbvGrd', 'Lot Area','mssubclass_30','BsmtFin SF 1']]
y = df['SalePrice']


X_train,X_test,y_train,y_test = train_test_split(X,y,random_state = 42)
lr = LinearRegression()
lr.fit(X_train,y_train)

lr.score(X_train,y_train)


lr.score(X_test,y_test)





y_pred = lr.predict(X_test)
residuals = y_test - y_pred

# Create residual plot
plt.figure(figsize=(10, 6))
sns.scatterplot(x=y_pred, y=residuals)
plt.axhline(0, color='red', linestyle='--')
plt.xlabel('Predicted Sale Price')
plt.ylabel('Residuals')
plt.title('Residual Plot');








lr.fit(X,y)


preds = lr.predict(test[['PID', 'Overall Qual', 'Gr Liv Area', 'Year Built', 'Garage Area', 'Total Bsmt SF', 'Year Remod/Add', 'TotRms AbvGrd', 'Lot Area','mssubclass_30','BsmtFin SF 1']])
predictions = test.copy()
predictions['SalePrice'] = preds
predictions = predictions[['SalePrice']]
predictions.head()





plt.hist(predictions['SalePrice'],
        bins = 40,
        edgecolor = 'black');





predictions.to_csv('only_numeric_predictions.csv')
# this got about a 30k score. While I have no clue what that means I'll assume that is bad since just the overall condition column got a 50k score








df[['Alley']] = df[['Alley']].replace({np.nan: 'None'})
test[['Alley']] = test[['Alley']].replace({np.nan: 'None'})





df[['Garage Type','Garage Finish']] = df[['Garage Type','Garage Finish']].replace({np.nan:'None'})
test[['Garage Type','Garage Finish']] = test[['Garage Type','Garage Finish']].replace({np.nan:'None'})





df['Mas Vnr Type'] = df['Mas Vnr Type'].replace({np.nan:'None'})
test['Mas Vnr Type'] = test['Mas Vnr Type'].replace({np.nan:'None'})





df[['BsmtFin Type 1','BsmtFin Type 2']] = df[['BsmtFin Type 1','BsmtFin Type 2']].replace({np.nan:'None'})
test[['BsmtFin Type 1','BsmtFin Type 2']] = test[['BsmtFin Type 1','BsmtFin Type 2']].replace({np.nan:'None'})





df['Misc Feature'] = df['Misc Feature'].replace({np.nan:'None'})
test['Misc Feature'] = test['Misc Feature'].replace({np.nan:'None'})





df['Bsmt Qual'] = df[['Bsmt Qual']].replace({'Ex':5,
                                               'Gd':4,
                                               'TA':3,
                                               'Fa':2,
                                               'Po':1,
                                               np.nan: 0})
test['Bsmt Qual'] = test[['Bsmt Qual']].replace({'Ex':5,
                                               'Gd':4,
                                               'TA':3,
                                               'Fa':2,
                                               'Po':1,
                                               np.nan: 0})





df['Bsmt Cond'] = df[['Bsmt Cond']].replace({'Ex':5,
                                               'Gd':4,
                                               'TA':3,
                                               'Fa':2,
                                               'Po':1,
                                               np.nan: 0})
test['Bsmt Cond'] = test[['Bsmt Cond']].replace({'Ex':5,
                                               'Gd':4,
                                               'TA':3,
                                               'Fa':2,
                                               'Po':1,
                                               np.nan: 0})





df[['Exter Qual','Exter Cond']] = df[['Exter Qual','Exter Cond']].replace({'Ex':5,
                                               'Gd':4,
                                               'TA':3,
                                               'Fa':2,
                                               'Po':1})
test[['Exter Qual','Exter Cond']] = test[['Exter Qual','Exter Cond']].replace({'Ex':5,
                                               'Gd':4,
                                               'TA':3,
                                               'Fa':2,
                                               'Po':1})





df['Bsmt Exposure'] = df[['Bsmt Exposure']].replace({
                                               'Gd':4,
                                               'Av':3,
                                               'Mn':2,
                                               'No':1,
                                               np.nan: 0})
test['Bsmt Exposure'] = test[['Bsmt Exposure']].replace({
                                               'Gd':4,
                                               'Av':3,
                                               'Mn':2,
                                               'No':1,
                                               np.nan: 0})





df[['Heating QC','Kitchen Qual']] = df[['Heating QC','Kitchen Qual']].replace({'Ex':5,
                                               'Gd':4,
                                               'TA':3,
                                               'Fa':2,
                                               'Po':1})
test[['Heating QC','Kitchen Qual']] = test[['Heating QC','Kitchen Qual']].replace({'Ex':5,
                                               'Gd':4,
                                               'TA':3,
                                               'Fa':2,
                                               'Po':1})





df[['Fireplace Qu','Garage Qual','Garage Cond']] = df[['Fireplace Qu','Garage Qual','Garage Cond']].replace({'Ex':5,
                                               'Gd':4,
                                               'TA':3,
                                               'Fa':2,
                                               'Po':1,
                                               np.nan: 0})
test[['Fireplace Qu','Garage Qual','Garage Cond']] = test[['Fireplace Qu','Garage Qual','Garage Cond']].replace({'Ex':5,
                                               'Gd':4,
                                               'TA':3,
                                               'Fa':2,
                                               'Po':1,
                                               np.nan: 0})





df['Pool QC'] = df[['Pool QC']].replace({'Ex':4,
                                               'Gd':3,
                                               'TA':2,
                                               'Fa':1,
                                               np.nan: 0})
test['Pool QC'] = test[['Pool QC']].replace({'Ex':4,
                                               'Gd':3,
                                               'TA':2,
                                               'Fa':1,
                                               np.nan: 0})





def make_dummies(df,test,column):
    df = pd.get_dummies(df, 
                        columns = [column],
                        prefix = column.strip(),
                        dtype = int)
    test = pd.get_dummies(test, 
                        columns=[column], 
                        prefix=column.strip(), 
                        dtype=int)

    return df, test


df, test = make_dummies(df,test,'MS Zoning')
df, test = make_dummies(df,test,'Street')
df, test = make_dummies(df,test,'Alley')
df, test = make_dummies(df,test,'Lot Shape')
df, test = make_dummies(df,test,'Land Contour')
df, test = make_dummies(df,test,'Lot Config')
df, test = make_dummies(df,test,'Land Slope')
df, test = make_dummies(df,test,'Neighborhood')
df, test = make_dummies(df,test,'Condition 1')
df, test = make_dummies(df,test,'Condition 2')
df, test = make_dummies(df,test,'Bldg Type')
df, test = make_dummies(df,test,'House Style')
df, test = make_dummies(df,test,'Roof Style')
df, test = make_dummies(df,test,'Roof Matl')
df, test = make_dummies(df,test,'Exterior 1st')
df, test = make_dummies(df,test,'Exterior 2nd')
df, test = make_dummies(df,test,'Mas Vnr Type')
df, test = make_dummies(df,test,'Foundation')
df, test = make_dummies(df,test,'BsmtFin Type 1')
df, test = make_dummies(df,test,'BsmtFin Type 2')
df, test = make_dummies(df,test,'Heating')
df, test = make_dummies(df,test,'Central Air')
df, test = make_dummies(df,test,'Electrical')
df, test = make_dummies(df,test,'Functional')
df, test = make_dummies(df,test,'Garage Type')
df, test = make_dummies(df,test,'Garage Finish')
df, test = make_dummies(df,test,'Paved Drive')
df, test = make_dummies(df,test,'Fence')
df, test = make_dummies(df,test,'Sale Type')
df, test = make_dummies(df,test,'Misc Feature')
df, test = make_dummies(df,test,'Utilities')





plt.figure(figsize=(3, 55))
sns.heatmap(df.corr()[['SalePrice']].sort_values(by='SalePrice',ascending = False), 
            annot=True,
            cmap='viridis');


df.info(verbose = True,
       show_counts = True)


X = df[['PID', 'Overall Qual', 'Gr Liv Area', 'Year Built', 'Garage Area', 'Total Bsmt SF', 'Year Remod/Add', 'TotRms AbvGrd', 
        'Lot Area','mssubclass_30','BsmtFin SF 1','Exter Qual','Kitchen Qual','Bsmt Qual','Fireplace Qu','Garage Finish_Unf',
       'Garage Type_Detchd','Mas Vnr Type_None','Neighborhood_NridgHt','Paved Drive_N','Central Air_N','Bsmt Exposure','Garage Finish_Fin']]
y = df['SalePrice']
X_train,X_test,y_train,y_test = train_test_split(X,y,random_state = 42)
lr = LinearRegression()
lr.fit(X_train,y_train)

lr.score(X_train,y_train)


lr.score(X_test,y_test)


y_pred = lr.predict(X_test)
residuals = y_test - y_pred

# Create residual plot
plt.figure(figsize=(10, 6))
sns.scatterplot(x=y_pred, y=residuals)
plt.axhline(0, color='red', linestyle='--')
plt.xlabel('Predicted Sale Price')
plt.ylabel('Residuals')
plt.title('Residual Plot');


lr.fit(X,y)
preds = lr.predict(test[['PID', 'Overall Qual', 'Gr Liv Area', 'Year Built', 'Garage Area', 'Total Bsmt SF', 'Year Remod/Add', 'TotRms AbvGrd', 
        'Lot Area','mssubclass_30','BsmtFin SF 1','Exter Qual','Kitchen Qual','Bsmt Qual','Fireplace Qu','Garage Finish_Unf',
       'Garage Type_Detchd','Mas Vnr Type_None','Neighborhood_NridgHt','Paved Drive_N','Central Air_N','Bsmt Exposure','Garage Finish_Fin']])
predictions = test.copy()
predictions['SalePrice'] = preds
predictions = predictions[['SalePrice']]
predictions.head()


plt.hist(predictions['SalePrice'],
        bins = 40,
        edgecolor = 'black');


predictions.to_csv('Full_data_predictions_1.csv')



