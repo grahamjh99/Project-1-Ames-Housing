import numpy as np
import seaborn as sns
import matplotlib.pyplot as plt
import pandas as pd


df = pd.read_csv('./datasets/train.csv')
df.head()


df.columns


df.info()


df.isnull().sum()








df[df['Garage Area'].isnull()]


df[(df['Garage Area'].isnull()) & (df['Garage Cars'].isnull())][['Garage Area', 'Garage Cars', 'Garage Qual']]


df[df['Garage Area'] == 0]


df[['Garage Area', 'Garage Cars']] = df[['Garage Area', 'Garage Cars']].replace({np.nan: 0})
df[(df['Garage Area']== 0) & (df['Garage Cars'] == 0)][['Garage Area', 'Garage Cars', 'Garage Qual']]








df[(df['Mas Vnr Type'].isnull()) & (df['Mas Vnr Area'].isnull())][['Mas Vnr Area', 'Mas Vnr Type']]


df[['Mas Vnr Area']] = df[['Mas Vnr Area']].replace({np.nan: 0})





df[(df['BsmtFin SF 1'].isnull()) & (df['BsmtFin Type 1'].isnull())][['BsmtFin SF 1', 'BsmtFin Type 1']]


df[['BsmtFin SF 1','BsmtFin SF 2','Bsmt Unf SF','Total Bsmt SF','Bsmt Full Bath','Bsmt Half Bath']] = df[['BsmtFin SF 1','BsmtFin SF 2','Bsmt Unf SF','Total Bsmt SF','Bsmt Full Bath','Bsmt Half Bath']].replace({np.nan: 0})





df['totalsf'] = df['Pool Area']+df['Wood Deck SF']+ df['Open Porch SF']+df['Lot Area']+df['Enclosed Porch']+df['3Ssn Porch']+ df['Screen Porch']+df['Total Bsmt SF']+df['Gr Liv Area']+df['Garage Area']





# df_numeric = df[['Mo Sold','Yr Sold','SalePrice','Screen Porch','Pool Area','3Ssn Porch',
#                  'Enclosed Porch','Open Porch SF','Wood Deck SF','Id','PID','MS SubClass',
#                  'Lot Area','Overall Qual','Overall Cond','Year Built','Year Remod/Add',
#                 'Mas Vnr Area','1st Flr SF','2nd Flr SF','Low Qual Fin SF','BsmtFin SF 1',
#                 'BsmtFin SF 2','Bsmt Unf SF','Total Bsmt SF','Gr Liv Area','Full Bath','Half Bath',
#                 'Kitchen AbvGr','Bedroom AbvGr','TotRms AbvGrd','Fireplaces','Garage Area','Garage Cars','Garage Yr Blt','Bsmt Half Bath','Bsmt Full Bath']]

# Drop non-numeric columns
df_numeric = df.select_dtypes(include=['int', 'float'])

# Create the heatmap
plt.figure(figsize=(3, 10))
sns.heatmap(df_numeric.corr()[['SalePrice']].sort_values(by='SalePrice',ascending = False), 
            annot=True,
            cmap='viridis');





# Drop the original column and join the dummies
df = pd.get_dummies(df, 
                    columns = ['MS SubClass'],
                    prefix = 'mssubclass',
                    dtype = int)
df.columns


plt.hist(df['Overall Cond'],
        bins = 40,
        edgecolor = 'black');





# Drop non-numeric columns
df_numeric = df.select_dtypes(include=['int', 'float'])

# Create the heatmap
plt.figure(figsize=(3, 15))
sns.heatmap(df_numeric.corr()[['SalePrice']].sort_values(by='SalePrice',ascending = False), 
            annot=True,
            cmap='viridis');





df.dtypes





plt.hist(df['SalePrice'],
        bins = 40,
        edgecolor = 'black');


np.mean(df['SalePrice'])



